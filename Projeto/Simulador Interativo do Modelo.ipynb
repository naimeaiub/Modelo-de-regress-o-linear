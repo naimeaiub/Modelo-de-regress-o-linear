{
 "cells": [
  {
   "cell_type": "markdown",
   "metadata": {},
   "source": [
    "<h1 style='color: green; font-size: 36px; font-weight: bold;'>Data Science - Regressão Linear</h1>"
   ]
  },
  {
   "cell_type": "markdown",
   "metadata": {},
   "source": [
    "# <font color='red' style='font-size: 30px;'>Simulador do modelo para preços de aluguel em SP</font>\n",
    "<hr style='border: 2px solid red;'>"
   ]
  },
  {
   "cell_type": "markdown",
   "metadata": {},
   "source": [
    "## Simulador interativo para Jupyter"
   ]
  },
  {
   "cell_type": "code",
   "execution_count": 10,
   "metadata": {},
   "outputs": [],
   "source": [
    "# Importando bibliotecas\n",
    "from ipywidgets import widgets, HBox, VBox\n",
    "from IPython.display import display\n",
    "import numpy as np\n",
    "import pickle\n",
    "\n",
    "# Carregando o modelo\n",
    "modelo = open('modelo_preco_total_aluguel','rb')\n",
    "lm_new = pickle.load(modelo)\n",
    "modelo.close()\n",
    "\n",
    "# Criando os controles do formulário\n",
    "area = widgets.Text(description=\"Área (m²)\", style={'description_width': 'initial'})\n",
    "qtd_quartos = widgets.Text(description=\"Quantidade de quartos\", style={'description_width': 'initial'})\n",
    "qtd_garagens = widgets.Text(description=\"Quantidade de garagens\", style={'description_width': 'initial'})\n",
    "apartamento = widgets.Text(description=\"É apartamento? (0 ou 1)\", style={'description_width': 'initial'})\n",
    "casa = widgets.Text(description=\"É Casa? (0 ou 1)\", style={'description_width': 'initial'})\n",
    "casa_condominio = widgets.Text(description=\"É casa em condomínio? (0 ou 1)\", style={'description_width': 'initial'})\n",
    "studio_kitnet = widgets.Text(description=\"É Studio ou Kitnet? (0 ou 1)\", style={'description_width': 'initial'})\n",
    "\n",
    "botao = widgets.Button(description=\"Simular\")\n",
    "\n",
    "# Posicionando os controles\n",
    "left = VBox([area, qtd_quartos, qtd_garagens])\n",
    "right = VBox([apartamento, casa, casa_condominio, studio_kitnet])\n",
    "inputs = HBox([left, right])\n",
    "\n",
    "# Função de simulação\n",
    "def simulador(sender):\n",
    "    entrada=[[\n",
    "                np.log(float(area.value) + 1) if area.value else 0,\n",
    "                np.log(float(qtd_quartos.value) + 1) if qtd_quartos.value else 0,\n",
    "                np.log(float(qtd_garagens.value) + 1) if qtd_garagens.value else 0,\n",
    "                int(apartamento.value if apartamento.value else 0),\n",
    "                int(casa.value if casa.value else 0),\n",
    "                int(casa_condominio.value if casa_condominio.value else 0),\n",
    "                int(studio_kitnet.value if studio_kitnet.value else 0)\n",
    "             ]]\n",
    "    \n",
    "    print('Preço total do aluguel = R$ %.2f' % np.exp(lm_new.predict(entrada)[0]))\n",
    "    \n",
    "# Atribuindo a função \"simulador\" ao evento click do botão\n",
    "botao.on_click(simulador)    "
   ]
  },
  {
   "cell_type": "code",
   "execution_count": 11,
   "metadata": {},
   "outputs": [
    {
     "data": {
      "application/vnd.jupyter.widget-view+json": {
       "model_id": "694b45b1926a45eb8741319ecc761c89",
       "version_major": 2,
       "version_minor": 0
      },
      "text/plain": [
       "HBox(children=(VBox(children=(Text(value='', description='Área (m²)', style=DescriptionStyle(description_width…"
      ]
     },
     "metadata": {},
     "output_type": "display_data"
    },
    {
     "data": {
      "application/vnd.jupyter.widget-view+json": {
       "model_id": "f3880374879c478fa2bfa3e620ab2dcf",
       "version_major": 2,
       "version_minor": 0
      },
      "text/plain": [
       "Button(description='Simular', style=ButtonStyle())"
      ]
     },
     "metadata": {},
     "output_type": "display_data"
    }
   ],
   "source": [
    "display(inputs, botao)"
   ]
  }
 ],
 "metadata": {
  "kernelspec": {
   "display_name": "Python 3",
   "language": "python",
   "name": "python3"
  },
  "language_info": {
   "codemirror_mode": {
    "name": "ipython",
    "version": 3
   },
   "file_extension": ".py",
   "mimetype": "text/x-python",
   "name": "python",
   "nbconvert_exporter": "python",
   "pygments_lexer": "ipython3",
   "version": "3.11.7"
  }
 },
 "nbformat": 4,
 "nbformat_minor": 2
}
